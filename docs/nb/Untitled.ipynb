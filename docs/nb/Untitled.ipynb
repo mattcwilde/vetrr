{
 "cells": [
  {
   "cell_type": "markdown",
   "metadata": {},
   "source": [
    "# Low mass galaxies feel their environment more\n",
    "\n",
    " - McGee 2010: \n",
    " group galaxies are less quenched at higher redshifts (0.4 vs 0.0)"
   ]
  },
  {
   "cell_type": "code",
   "execution_count": 58,
   "metadata": {},
   "outputs": [],
   "source": [
    "import glob\n",
    "import os"
   ]
  },
  {
   "cell_type": "code",
   "execution_count": 96,
   "metadata": {},
   "outputs": [],
   "source": [
    "path = \"/Users/mwilde/Dropbox/IGM_spectra/VetRRTEST/J1133+0327_m08/Science/\"\n",
    "path = \"/Users/mwilde/Dropbox/IGM_spectra/VetRRTEST/J1001+5944_m12/Science/\"\n",
    "\n"
   ]
  },
  {
   "cell_type": "code",
   "execution_count": 102,
   "metadata": {},
   "outputs": [
    {
     "name": "stdout",
     "output_type": "stream",
     "text": [
      "need an outfile and initials\n"
     ]
    }
   ],
   "source": [
    "infile = glob.glob(path+\"J*_rr.fits\")[0]\n",
    "coadd = glob.glob(path+\"J*coadd.yaml\")[0]\n",
    "# initials = 'MW'\n",
    "initials = None\n",
    "\n",
    "# check to see if there are any previous vetrr.json files\n",
    "outguess = glob.glob(path+\"J*vetrr*.json\")\n",
    "if len(outguess) == 0:\n",
    "    if initials is None:\n",
    "        print(\"need an outfile and initials\")\n",
    "        initials = \"ANON\"\n",
    "    outfile = infile[:-7]+\"vetrr_\"+initials+\".json\"\n",
    "else:\n",
    "    outfile = outguess[0]"
   ]
  },
  {
   "cell_type": "code",
   "execution_count": 101,
   "metadata": {},
   "outputs": [
    {
     "data": {
      "text/plain": [
       "('/Users/mwilde/Dropbox/IGM_spectra/VetRRTEST/J1001+5944_m12/Science/J1001_5944_m12_rr.fits',\n",
       " '/Users/mwilde/Dropbox/IGM_spectra/VetRRTEST/J1001+5944_m12/Science/J1001+5944-12_coadd.yaml',\n",
       " '/Users/mwilde/Dropbox/IGM_spectra/VetRRTEST/J1001+5944_m12/Science/J1001_5944_m12_vetrr_ANON.json')"
      ]
     },
     "execution_count": 101,
     "metadata": {},
     "output_type": "execute_result"
    }
   ],
   "source": [
    "infile, coadd, outfile"
   ]
  },
  {
   "cell_type": "code",
   "execution_count": null,
   "metadata": {},
   "outputs": [],
   "source": [
    "\n"
   ]
  },
  {
   "cell_type": "code",
   "execution_count": 99,
   "metadata": {},
   "outputs": [
    {
     "data": {
      "text/plain": [
       "'/Users/mwilde/Dropbox/IGM_spectra/VetRRTEST/J1001+5944_m12/Science/J1001_5944_m12_vetrr_MW.json'"
      ]
     },
     "execution_count": 99,
     "metadata": {},
     "output_type": "execute_result"
    }
   ],
   "source": [
    "outfile"
   ]
  },
  {
   "cell_type": "code",
   "execution_count": null,
   "metadata": {},
   "outputs": [],
   "source": []
  }
 ],
 "metadata": {
  "kernelspec": {
   "display_name": "Python 3",
   "language": "python",
   "name": "python3"
  },
  "language_info": {
   "codemirror_mode": {
    "name": "ipython",
    "version": 3
   },
   "file_extension": ".py",
   "mimetype": "text/x-python",
   "name": "python",
   "nbconvert_exporter": "python",
   "pygments_lexer": "ipython3",
   "version": "3.6.6"
  }
 },
 "nbformat": 4,
 "nbformat_minor": 2
}
